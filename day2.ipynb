{
 "cells": [
  {
   "cell_type": "markdown",
   "metadata": {},
   "source": [
    "# Control Flow"
   ]
  },
  {
   "cell_type": "markdown",
   "metadata": {},
   "source": [
    "## Conditional Statements"
   ]
  },
  {
   "cell_type": "code",
   "execution_count": 1,
   "metadata": {},
   "outputs": [
    {
     "name": "stdout",
     "output_type": "stream",
     "text": [
      "buy a magazine!\n"
     ]
    }
   ],
   "source": [
    "book_price = 500000\n",
    "magazine_price = 10000\n",
    "money = 20000\n",
    "\n",
    "if money > book_price:\n",
    "    print(\"buy a book!\")\n",
    "elif money > magazine_price:\n",
    "    print(\"buy a magazine!\")\n",
    "else:\n",
    "    print(\"Gather some money first!\")"
   ]
  },
  {
   "cell_type": "code",
   "execution_count": 2,
   "metadata": {},
   "outputs": [
    {
     "name": "stdout",
     "output_type": "stream",
     "text": [
      "buy a magazine!\n"
     ]
    }
   ],
   "source": [
    "book_price = 500000\n",
    "magazine_price = 10000\n",
    "money = 20000\n",
    "\n",
    "is_buy_book = money > book_price\n",
    "is_buy_magazine = money > magazine_price\n",
    "\n",
    "if is_buy_book:\n",
    "    print(\"buy a book!\")\n",
    "elif is_buy_magazine:\n",
    "    print(\"buy a magazine!\")\n",
    "else:\n",
    "    print(\"Gather some money first!\")"
   ]
  },
  {
   "cell_type": "code",
   "execution_count": 3,
   "metadata": {},
   "outputs": [
    {
     "name": "stdout",
     "output_type": "stream",
     "text": [
      "do something!\n"
     ]
    }
   ],
   "source": [
    "is_raining = False\n",
    "\n",
    "if is_raining:\n",
    "    print(\"stay at home\")\n",
    "else:\n",
    "    print(\"do something!\")"
   ]
  },
  {
   "cell_type": "code",
   "execution_count": 4,
   "metadata": {},
   "outputs": [
    {
     "name": "stdout",
     "output_type": "stream",
     "text": [
      "do something\n",
      "student is not valid! Who are you?\n"
     ]
    }
   ],
   "source": [
    "what_to_do = \"stay at home\" if is_raining else \"do something\"  # oneliner code\n",
    "print(what_to_do)\n",
    "\n",
    "list_names = [\"eza\", \"idfi taniya\", \"yoanita\", \"septy\", \"tiurma\", \"windi\"]\n",
    "student = \"taniya\"\n",
    "if student in list_names:\n",
    "    print(\"student is valid!\")\n",
    "else:\n",
    "    print(\"student is not valid! Who are you?\")"
   ]
  },
  {
   "cell_type": "code",
   "execution_count": 5,
   "metadata": {},
   "outputs": [
    {
     "data": {
      "text/plain": [
       "(True, True)"
      ]
     },
     "execution_count": 5,
     "metadata": {},
     "output_type": "execute_result"
    }
   ],
   "source": [
    "\"i\" in list(\"idfi taniya\"), \"i\" in \"idfi taniya\""
   ]
  },
  {
   "cell_type": "code",
   "execution_count": 6,
   "metadata": {},
   "outputs": [
    {
     "name": "stdout",
     "output_type": "stream",
     "text": [
      "True\n",
      "True\n"
     ]
    }
   ],
   "source": [
    "print(\"taniya\" in \"idfitaniya\")\n",
    "print(\"taniya\" in \"idfi taniyakusuma\")"
   ]
  },
  {
   "cell_type": "markdown",
   "metadata": {},
   "source": [
    "## While Loop"
   ]
  },
  {
   "cell_type": "code",
   "execution_count": 7,
   "metadata": {},
   "outputs": [
    {
     "name": "stdout",
     "output_type": "stream",
     "text": [
      "0 eza\n",
      "1 idfi taniya\n",
      "2 yoanita\n",
      "3 septy\n",
      "4 tiurma\n",
      "5 windi\n"
     ]
    }
   ],
   "source": [
    "idx = 0\n",
    "while idx < len(list_names):\n",
    "    print(idx, list_names[idx])\n",
    "    idx += 1"
   ]
  },
  {
   "cell_type": "code",
   "execution_count": 8,
   "metadata": {
    "scrolled": true
   },
   "outputs": [
    {
     "name": "stdout",
     "output_type": "stream",
     "text": [
      "processing: eza\n",
      "[]\n",
      "processing: idfi taniya\n",
      "[]\n",
      "processing: yoanita\n",
      "['idfi taniya']\n",
      "processing: septy\n",
      "['idfi taniya', 'yoanita']\n",
      "processing: tiurma\n",
      "['idfi taniya', 'yoanita']\n",
      "processing: windi\n",
      "['idfi taniya', 'yoanita']\n",
      "processing: idfitaniya\n",
      "['idfi taniya', 'yoanita']\n",
      "processing: idfi taniyakusuma\n",
      "['idfi taniya', 'yoanita', 'idfitaniya']\n",
      "taniya in students: ['idfi taniya', 'yoanita', 'idfitaniya', 'idfi taniyakusuma']\n"
     ]
    }
   ],
   "source": [
    "list_names = [\"eza\", \"idfi taniya\", \"yoanita\", \"septy\", \"tiurma\",\n",
    "              \"windi\", \"idfitaniya\", \"idfi taniyakusuma\"]\n",
    "list_taniya = []\n",
    "\n",
    "idx = 0\n",
    "while idx < len(list_names):\n",
    "    student = list_names[idx]\n",
    "    print(\"processing:\", student)\n",
    "    print(list_taniya)\n",
    "    if \"ani\" in student:\n",
    "        list_taniya.append(student)\n",
    "    idx += 1\n",
    "\n",
    "print(\"taniya in students:\", list_taniya)"
   ]
  },
  {
   "cell_type": "code",
   "execution_count": 9,
   "metadata": {},
   "outputs": [
    {
     "name": "stdout",
     "output_type": "stream",
     "text": [
      "processing: eza\n",
      "processing: yoanita\n",
      "processing: septy\n",
      "processing: tiurma\n",
      "processing: windi\n",
      "taniya in students: ['idfi tAnIya', 'idfiTaniya', 'idfi taniyAkusuma']\n"
     ]
    }
   ],
   "source": [
    "list_names = [\"eza\", \"idfi tAnIya\", \"yoanita\", \"septy\", \"tiurma\",\n",
    "              \"windi\", \"idfiTaniya\", \"idfi taniyAkusuma\"]\n",
    "list_taniya = []\n",
    "\n",
    "idx = 0\n",
    "while idx < len(list_names):\n",
    "    student = list_names[idx]\n",
    "    idx += 1\n",
    "    if \"taniya\" in student.lower():\n",
    "        list_taniya.append(student)\n",
    "        continue\n",
    "    print(\"processing:\", student)\n",
    "\n",
    "print(\"taniya in students:\", list_taniya)"
   ]
  },
  {
   "cell_type": "code",
   "execution_count": 10,
   "metadata": {},
   "outputs": [
    {
     "name": "stdout",
     "output_type": "stream",
     "text": [
      "processing: eza\n",
      "taniya in students: ['idfi tAnIya']\n"
     ]
    }
   ],
   "source": [
    "list_names = [\"eza\", \"idfi tAnIya\", \"yoanita\", \"septy\", \"tiurma\",\n",
    "              \"windi\", \"idfiTaniya\", \"idfi taniyAkusuma\"]\n",
    "list_taniya = []\n",
    "\n",
    "idx = 0\n",
    "while idx < len(list_names):\n",
    "    student = list_names[idx]\n",
    "    idx += 1\n",
    "    if \"taniya\" in student.lower():\n",
    "        list_taniya.append(student)\n",
    "        break\n",
    "    print(\"processing:\", student)\n",
    "\n",
    "print(\"taniya in students:\", list_taniya)"
   ]
  },
  {
   "cell_type": "markdown",
   "metadata": {},
   "source": [
    "## For Loop"
   ]
  },
  {
   "cell_type": "code",
   "execution_count": 11,
   "metadata": {},
   "outputs": [
    {
     "name": "stdout",
     "output_type": "stream",
     "text": [
      "taniya not found in eza\n",
      "taniya not found in yoanita\n",
      "taniya not found in septy\n",
      "taniya not found in tiurma\n",
      "taniya not found in windi\n",
      "['idfi tAnIya', 'idfiTaniya', 'idfi taniyAkusuma']\n"
     ]
    }
   ],
   "source": [
    "list_taniya = list()\n",
    "for student in list_names:\n",
    "    if \"taniya\" in student.lower():\n",
    "        list_taniya.append(student)\n",
    "        continue\n",
    "    print(f\"taniya not found in {student}\")\n",
    "print(list_taniya)"
   ]
  },
  {
   "cell_type": "code",
   "execution_count": 12,
   "metadata": {},
   "outputs": [
    {
     "name": "stdout",
     "output_type": "stream",
     "text": [
      "dict_items([('id', [1, 2, 3]), ('name', ['jack', 'ryan']), ('amount', [100, 88, 94]), ('coord', [(20, 199), (19, 211)])])\n"
     ]
    }
   ],
   "source": [
    "dict_transactions = {\n",
    "    \"id\": [1, 2, 3],\n",
    "    \"name\": [\"jack\", \"ryan\"],\n",
    "    \"amount\": [100, 88, 94],\n",
    "    \"coord\": [(20, 199), (19, 211)]\n",
    "}\n",
    "print(dict_transactions.items())"
   ]
  },
  {
   "cell_type": "code",
   "execution_count": 13,
   "metadata": {},
   "outputs": [
    {
     "name": "stdout",
     "output_type": "stream",
     "text": [
      "(110, 19) <class 'tuple'>\n",
      "x = 110, y = 19\n"
     ]
    }
   ],
   "source": [
    "coord = 110, 19\n",
    "print(coord, type(coord))\n",
    "x, y = list(coord)\n",
    "print(f\"x = {x}, y = {y}\")"
   ]
  },
  {
   "cell_type": "code",
   "execution_count": 14,
   "metadata": {},
   "outputs": [
    {
     "name": "stdout",
     "output_type": "stream",
     "text": [
      "id: [1, 2, 3]\n",
      "masih satu block\n",
      "name: ['jack', 'ryan']\n",
      "masih satu block\n",
      "amount: [100, 88, 94]\n",
      "masih satu block\n",
      "coord: [(20, 199), (19, 211)]\n",
      "masih satu block\n",
      "diluar block\n"
     ]
    }
   ],
   "source": [
    "for i, j in dict_transactions.items():\n",
    "    print(f\"{i}: {j}\")\n",
    "    print(\"masih satu block\")\n",
    "print(\"diluar block\")"
   ]
  },
  {
   "cell_type": "code",
   "execution_count": 15,
   "metadata": {},
   "outputs": [
    {
     "name": "stdout",
     "output_type": "stream",
     "text": [
      "id: [1, 2, 3]\n",
      "masih satu block\n",
      "name: ['jack', 'ryan']\n",
      "masih satu block\n",
      "amount: [100, 88, 94]\n",
      "masih satu block\n",
      "coord: [(20, 199), (19, 211)]\n",
      "masih satu block\n",
      "id: [1, 2, 3]\n",
      "masih satu block\n",
      "name: ['jack', 'ryan']\n",
      "masih satu block\n",
      "amount: [100, 88, 94]\n",
      "masih satu block\n",
      "coord: [(20, 199), (19, 211)]\n",
      "masih satu block\n",
      "[1, 2, 3]\n",
      "['jack', 'ryan']\n",
      "[100, 88, 94]\n",
      "[(20, 199), (19, 211)]\n"
     ]
    }
   ],
   "source": [
    "for key, _ in dict_transactions.items():\n",
    "    print(f\"{key}: {dict_transactions[key]}\")\n",
    "    print(\"masih satu block\")\n",
    "\n",
    "for key in dict_transactions.keys():\n",
    "    print(f\"{key}: {dict_transactions[key]}\")\n",
    "    print(\"masih satu block\")\n",
    "    \n",
    "for value in dict_transactions.values():\n",
    "    print(value)"
   ]
  },
  {
   "cell_type": "code",
   "execution_count": 16,
   "metadata": {},
   "outputs": [
    {
     "name": "stdout",
     "output_type": "stream",
     "text": [
      "0 .. sama aja dengan: eza\n",
      "1 .. sama aja dengan: idfi tAnIya\n",
      "2 .. sama aja dengan: yoanita\n",
      "3 .. sama aja dengan: septy\n",
      "4 .. sama aja dengan: tiurma\n",
      "5 .. sama aja dengan: windi\n",
      "6 .. sama aja dengan: idfiTaniya\n",
      "7 .. sama aja dengan: idfi taniyAkusuma\n"
     ]
    }
   ],
   "source": [
    "for idx, _ in enumerate(list_names):\n",
    "    print(idx, \".. sama aja dengan:\", list_names[idx])"
   ]
  },
  {
   "cell_type": "code",
   "execution_count": 17,
   "metadata": {},
   "outputs": [
    {
     "data": {
      "text/plain": [
       "(range(0, 10), range(1, 10))"
      ]
     },
     "execution_count": 17,
     "metadata": {},
     "output_type": "execute_result"
    }
   ],
   "source": [
    "range(10), range(1, 10)"
   ]
  },
  {
   "cell_type": "code",
   "execution_count": 18,
   "metadata": {},
   "outputs": [],
   "source": [
    "dates = \"2020-08-01\""
   ]
  },
  {
   "cell_type": "code",
   "execution_count": 19,
   "metadata": {
    "scrolled": false
   },
   "outputs": [],
   "source": [
    "dates = [\"2020-08-01\", \"2020-07-01\"]\n",
    "all_dates = []\n",
    "\n",
    "for date in dates:\n",
    "    monthly = []\n",
    "    day = int(list(date.split(\"-\")[-1])[-1])\n",
    "    month = int(list(date.split(\"-\")[1])[-1])\n",
    "    while day <= 31:\n",
    "        day += 1\n",
    "        if day < 10:\n",
    "            monthly.append(\"2020-0\" + str(month) + \"-0\" + str(day))\n",
    "        else:\n",
    "            monthly.append(\"2020-0\" + str(month) + \"-\" + str(day))\n",
    "    all_dates.append(monthly)"
   ]
  },
  {
   "cell_type": "code",
   "execution_count": 20,
   "metadata": {},
   "outputs": [
    {
     "data": {
      "text/plain": [
       "['2020-07-02',\n",
       " '2020-07-03',\n",
       " '2020-07-04',\n",
       " '2020-07-05',\n",
       " '2020-07-06',\n",
       " '2020-07-07',\n",
       " '2020-07-08',\n",
       " '2020-07-09',\n",
       " '2020-07-10',\n",
       " '2020-07-11',\n",
       " '2020-07-12',\n",
       " '2020-07-13',\n",
       " '2020-07-14',\n",
       " '2020-07-15',\n",
       " '2020-07-16',\n",
       " '2020-07-17',\n",
       " '2020-07-18',\n",
       " '2020-07-19',\n",
       " '2020-07-20',\n",
       " '2020-07-21',\n",
       " '2020-07-22',\n",
       " '2020-07-23',\n",
       " '2020-07-24',\n",
       " '2020-07-25',\n",
       " '2020-07-26',\n",
       " '2020-07-27',\n",
       " '2020-07-28',\n",
       " '2020-07-29',\n",
       " '2020-07-30',\n",
       " '2020-07-31',\n",
       " '2020-07-32']"
      ]
     },
     "execution_count": 20,
     "metadata": {},
     "output_type": "execute_result"
    }
   ],
   "source": [
    "all_dates[1]"
   ]
  },
  {
   "cell_type": "code",
   "execution_count": 21,
   "metadata": {},
   "outputs": [],
   "source": [
    "from datetime import datetime, timedelta"
   ]
  },
  {
   "cell_type": "code",
   "execution_count": 22,
   "metadata": {},
   "outputs": [
    {
     "name": "stdout",
     "output_type": "stream",
     "text": [
      "2020-12-22 15:01:49.617068\n"
     ]
    }
   ],
   "source": [
    "now = datetime.now()\n",
    "print(now)"
   ]
  },
  {
   "cell_type": "code",
   "execution_count": 23,
   "metadata": {},
   "outputs": [
    {
     "data": {
      "text/plain": [
       "datetime.datetime(2020, 12, 29, 15, 1, 49, 617068)"
      ]
     },
     "execution_count": 23,
     "metadata": {},
     "output_type": "execute_result"
    }
   ],
   "source": [
    "(now + timedelta(days=7))"
   ]
  },
  {
   "cell_type": "code",
   "execution_count": null,
   "metadata": {},
   "outputs": [],
   "source": []
  }
 ],
 "metadata": {
  "kernelspec": {
   "display_name": "Python 3",
   "language": "python",
   "name": "python3"
  },
  "language_info": {
   "codemirror_mode": {
    "name": "ipython",
    "version": 3
   },
   "file_extension": ".py",
   "mimetype": "text/x-python",
   "name": "python",
   "nbconvert_exporter": "python",
   "pygments_lexer": "ipython3",
   "version": "3.8.5"
  }
 },
 "nbformat": 4,
 "nbformat_minor": 4
}
