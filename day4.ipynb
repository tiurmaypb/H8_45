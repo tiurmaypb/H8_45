{
 "cells": [
  {
   "cell_type": "markdown",
   "metadata": {},
   "source": [
    "# Introduction to NumPy"
   ]
  },
  {
   "cell_type": "code",
   "execution_count": 1,
   "metadata": {},
   "outputs": [],
   "source": [
    "import numpy as np"
   ]
  },
  {
   "cell_type": "code",
   "execution_count": 2,
   "metadata": {},
   "outputs": [
    {
     "name": "stdout",
     "output_type": "stream",
     "text": [
      "numpy version: 1.18.2\n"
     ]
    }
   ],
   "source": [
    "print(\"numpy version:\", np.__version__)"
   ]
  },
  {
   "cell_type": "code",
   "execution_count": 3,
   "metadata": {},
   "outputs": [
    {
     "name": "stdout",
     "output_type": "stream",
     "text": [
      "[[1 2 3]\n",
      " [4 5 6]]\n",
      "type: <class 'numpy.ndarray'> shape: (2, 3)\n",
      "axis 0: 2 axis 1: 3\n",
      "length: 2\n",
      "[0.1 0.2 0.3 0.4]\n",
      "type: <class 'numpy.ndarray'> shape: (4,)\n",
      "axis 0: 4\n",
      "length: 4\n",
      "[[[1.  2. ]\n",
      "  [3.  4. ]\n",
      "  [0.1 0.2]]\n",
      "\n",
      " [[5.  6. ]\n",
      "  [7.  8. ]\n",
      "  [0.5 0.6]]]\n",
      "type: <class 'numpy.ndarray'> shape: (2, 3, 2)\n",
      "axis 0: 2 axis 1: 3 axis 2: 2\n",
      "length: 2\n"
     ]
    }
   ],
   "source": [
    "# define array using np.array\n",
    "arr_int = np.array([[1, 2, 3], [4, 5, 6]])\n",
    "print(arr_int)\n",
    "print(\"type:\", type(arr_int), \"shape:\", arr_int.shape)\n",
    "print(\"axis 0:\", arr_int.shape[0], \"axis 1:\", arr_int.shape[1])\n",
    "print(\"length:\", len(arr_int))\n",
    "\n",
    "arr1d_float = np.array([.1, .2, .3, .4])\n",
    "print(arr1d_float)\n",
    "print(\"type:\", type(arr1d_float), \"shape:\", arr1d_float.shape)\n",
    "print(\"axis 0:\", arr1d_float.shape[0])\n",
    "print(\"length:\", len(arr1d_float))\n",
    "\n",
    "arr3d_int = np.array([[[1, 2], [3, 4], [.1, .2]], [[5, 6], [7, 8], [.5, .6]]])\n",
    "print(arr3d_int)\n",
    "print(\"type:\", type(arr3d_int), \"shape:\", arr3d_int.shape)\n",
    "print(\n",
    "    \"axis 0:\", arr3d_int.shape[0],\n",
    "    \"axis 1:\", arr3d_int.shape[1],\n",
    "    \"axis 2:\", arr3d_int.shape[2]\n",
    ")\n",
    "print(\"length:\", len(arr3d_int))"
   ]
  },
  {
   "cell_type": "code",
   "execution_count": 4,
   "metadata": {},
   "outputs": [
    {
     "name": "stdout",
     "output_type": "stream",
     "text": [
      "[[0. 0. 0.]\n",
      " [0. 0. 0.]] float64 <class 'numpy.ndarray'> (2, 3)\n",
      "[[1. 1. 1. 1.]\n",
      " [1. 1. 1. 1.]] float64 <class 'numpy.ndarray'> (2, 4)\n",
      "[1.  1.1 1.2 1.3 1.4 1.5 1.6 1.7 1.8 1.9] float64 <class 'numpy.ndarray'> (10,)\n",
      "[[1.11465519e-311 1.11474400e-311 0.00000000e+000 ... 3.18299369e-313\n",
      "  1.18575755e-322 1.11465590e-311]\n",
      " [4.94065646e-324 0.00000000e+000 3.60739285e-313 ... 0.00000000e+000\n",
      "  0.00000000e+000 0.00000000e+000]\n",
      " [0.00000000e+000 0.00000000e+000 0.00000000e+000 ... 0.00000000e+000\n",
      "  0.00000000e+000 0.00000000e+000]\n",
      " ...\n",
      " [0.00000000e+000 0.00000000e+000 0.00000000e+000 ... 0.00000000e+000\n",
      "  0.00000000e+000 0.00000000e+000]\n",
      " [0.00000000e+000 0.00000000e+000 0.00000000e+000 ... 0.00000000e+000\n",
      "  0.00000000e+000 0.00000000e+000]\n",
      " [0.00000000e+000 0.00000000e+000 0.00000000e+000 ... 0.00000000e+000\n",
      "  0.00000000e+000 0.00000000e+000]] float64 <class 'numpy.ndarray'> (100, 100)\n"
     ]
    }
   ],
   "source": [
    "arr_zeros = np.zeros((2, 3))\n",
    "print(arr_zeros, arr_zeros.dtype, type(arr_zeros), arr_zeros.shape)\n",
    "\n",
    "arr_ones = np.ones((2, 4))\n",
    "print(arr_ones, arr_ones.dtype, type(arr_ones), arr_ones.shape)\n",
    "\n",
    "arr_arange = np.arange(1, 2, .1)\n",
    "print(arr_arange, arr_arange.dtype, type(arr_arange), arr_arange.shape)\n",
    "\n",
    "arr_empty = np.empty((100, 100))\n",
    "print(arr_empty, arr_empty.dtype, type(arr_empty), arr_empty.shape)"
   ]
  },
  {
   "cell_type": "code",
   "execution_count": 5,
   "metadata": {},
   "outputs": [
    {
     "name": "stdout",
     "output_type": "stream",
     "text": [
      "list: [[1, 2, 3], [4, 5, 6]]\n",
      "array: [[1 2 3]\n",
      " [4 5 6]]\n",
      "1 [1, 2]\n",
      "1 [1 2]\n",
      "[[6 5 4]\n",
      " [3 2 1]]\n"
     ]
    }
   ],
   "source": [
    "dummy_list = [[1, 2, 3], [4, 5, 6]]\n",
    "print(\"list:\", dummy_list)\n",
    "print(\"array:\", arr_int)\n",
    "\n",
    "# indexing & slicing\n",
    "print(dummy_list[0][0], dummy_list[0][:2])\n",
    "print(arr_int[0, 0], arr_int[0, :2])\n",
    "print(arr_int[::-1, ::-1])"
   ]
  },
  {
   "cell_type": "code",
   "execution_count": 6,
   "metadata": {},
   "outputs": [
    {
     "name": "stdout",
     "output_type": "stream",
     "text": [
      "num of dimension: 2\n",
      "num of dimension: 3\n",
      "total items: 6\n",
      "total items: 12\n"
     ]
    }
   ],
   "source": [
    "# ndim and size of ndarray\n",
    "print(\"num of dimension:\", arr_int.ndim)\n",
    "print(\"num of dimension:\", arr3d_int.ndim)\n",
    "\n",
    "print(\"total items:\", arr_int.size)\n",
    "print(\"total items:\", arr3d_int.size)"
   ]
  },
  {
   "cell_type": "code",
   "execution_count": 7,
   "metadata": {},
   "outputs": [
    {
     "name": "stdout",
     "output_type": "stream",
     "text": [
      "before flatten: [[1 2 3]\n",
      " [4 5 6]]\n",
      "after flatten: [1 2 3 4 5 6]\n"
     ]
    }
   ],
   "source": [
    "# flatten\n",
    "print(\"before flatten:\", arr_int)\n",
    "print(\"after flatten:\", arr_int.flatten())"
   ]
  },
  {
   "cell_type": "code",
   "execution_count": 8,
   "metadata": {},
   "outputs": [
    {
     "data": {
      "text/plain": [
       "((3,), (1, 3), (2, 1))"
      ]
     },
     "execution_count": 8,
     "metadata": {},
     "output_type": "execute_result"
    }
   ],
   "source": [
    "np.array([10, 11, 12]).shape, np.array([[10, 11, 12]]).shape, np.array([[10], [11]]).shape"
   ]
  },
  {
   "cell_type": "code",
   "execution_count": 9,
   "metadata": {},
   "outputs": [
    {
     "name": "stdout",
     "output_type": "stream",
     "text": [
      "[ 0.1  0.2  0.3  0.4 10.  11.  12. ]\n",
      "[[ 1  2  3]\n",
      " [ 4  5  6]\n",
      " [10 11 12]]\n",
      "[[ 1  2  3 10]\n",
      " [ 4  5  6 11]]\n",
      "[[1 2 3]\n",
      " [4 5 6]\n",
      " [1 2 3]\n",
      " [4 5 6]]\n",
      "[[1 2 3 1 2 3]\n",
      " [4 5 6 4 5 6]]\n",
      "[[1 2 3 1 2 3 1 2 3]\n",
      " [4 5 6 4 5 6 4 5 6]]\n",
      "[[1. 2. 3.]\n",
      " [4. 5. 6.]\n",
      " [0. 0. 0.]\n",
      " [0. 0. 0.]]\n",
      "[[0. 0. 0. 1. 2. 3.]\n",
      " [0. 0. 0. 4. 5. 6.]]\n",
      "[[[1.  2. ]\n",
      "  [3.  4. ]\n",
      "  [0.1 0.2]]\n",
      "\n",
      " [[5.  6. ]\n",
      "  [7.  8. ]\n",
      "  [0.5 0.6]]]\n",
      "[[[1.  2. ]\n",
      "  [3.  4. ]\n",
      "  [0.1 0.2]]]\n",
      "[[[1. 2.]\n",
      "  [3. 4.]]\n",
      "\n",
      " [[5. 6.]\n",
      "  [7. 8.]]]\n"
     ]
    }
   ],
   "source": [
    "# append, concatenate, and delete\n",
    "print(np.append(arr1d_float, [10, 11, 12]))\n",
    "print(np.append(arr_int, [[10, 11, 12]], axis=0))\n",
    "print(np.append(arr_int, [[10], [11]], axis=1))\n",
    "print(np.append(arr_int, arr_int, axis=0))\n",
    "print(np.append(arr_int, arr_int, axis=1))\n",
    "\n",
    "print(np.concatenate([arr_int, arr_int, arr_int], axis=1))\n",
    "print(np.concatenate([arr_int, arr_zeros], axis=0))\n",
    "print(np.concatenate([arr_zeros, arr_int], axis=1))\n",
    "\n",
    "print(arr3d_int)\n",
    "print(np.delete(arr3d_int, 1, axis=0))\n",
    "print(np.delete(arr3d_int, -1, axis=1))"
   ]
  },
  {
   "cell_type": "code",
   "execution_count": 10,
   "metadata": {},
   "outputs": [
    {
     "name": "stdout",
     "output_type": "stream",
     "text": [
      "[[[1.  2. ]\n",
      "  [3.  4. ]\n",
      "  [0.1 0.2]]\n",
      "\n",
      " [[5.  6. ]\n",
      "  [7.  8. ]\n",
      "  [0.5 0.6]]] (2, 3, 2)\n",
      "[1.  2.  3.  4.  0.1 0.2 5.  6.  7.  8.  0.5 0.6]\n",
      "[[1.  2. ]\n",
      " [3.  4. ]\n",
      " [0.1 0.2]\n",
      " [5.  6. ]\n",
      " [7.  8. ]\n",
      " [0.5 0.6]] 2\n",
      "[[[1.  2. ]]\n",
      "\n",
      " [[3.  4. ]]\n",
      "\n",
      " [[0.1 0.2]]\n",
      "\n",
      " [[5.  6. ]]\n",
      "\n",
      " [[7.  8. ]]\n",
      "\n",
      " [[0.5 0.6]]] 3\n",
      "[[[1.  2. ]\n",
      "  [3.  4. ]\n",
      "  [0.1 0.2]\n",
      "  [5.  6. ]\n",
      "  [7.  8. ]\n",
      "  [0.5 0.6]]] 3\n",
      "[[[1.  2. ]\n",
      "  [3.  4. ]]\n",
      "\n",
      " [[0.1 0.2]\n",
      "  [5.  6. ]]\n",
      "\n",
      " [[7.  8. ]\n",
      "  [0.5 0.6]]]\n",
      "[[1.  2.  3. ]\n",
      " [4.  0.1 0.2]\n",
      " [5.  6.  7. ]\n",
      " [8.  0.5 0.6]\n",
      " [1.  2.  3. ]]\n"
     ]
    }
   ],
   "source": [
    "# reshape, resize\n",
    "print(arr3d_int, arr3d_int.shape)\n",
    "print(arr3d_int.flatten())\n",
    "print(np.reshape(arr3d_int, (6, 2)), np.reshape(arr3d_int, (6, 2)).ndim)\n",
    "print(np.reshape(arr3d_int, (6, 1, 2)), np.reshape(arr3d_int, (6, 1, 2)).ndim)\n",
    "print(np.reshape(arr3d_int, (1, 6, 2)), np.reshape(arr3d_int, (1, 6, 2)).ndim)\n",
    "print(arr3d_int.reshape((3, 2, 2)))\n",
    "\n",
    "print(np.resize(arr3d_int, (5, 3)))\n",
    "# print(arr3d_int.resize((3, 5)))"
   ]
  },
  {
   "cell_type": "code",
   "execution_count": 11,
   "metadata": {},
   "outputs": [
    {
     "name": "stdout",
     "output_type": "stream",
     "text": [
      "(4,)\n",
      "[[0.1]\n",
      " [0.2]\n",
      " [0.3]\n",
      " [0.4]] (4, 1)\n",
      "[[0.1 0.2 0.3 0.4]]\n",
      "(2, 3, 2, 1)\n",
      "(2, 1, 3, 2)\n"
     ]
    }
   ],
   "source": [
    "print(arr1d_float.shape)\n",
    "\n",
    "arr2d_float = arr1d_float[:, np.newaxis]\n",
    "print(arr2d_float, arr2d_float.shape)\n",
    "print(arr1d_float[None])\n",
    "\n",
    "print(arr3d_int[:, :, :, np.newaxis].shape)\n",
    "print(arr3d_int[:, np.newaxis, ...].shape)    # ellipsis"
   ]
  },
  {
   "cell_type": "code",
   "execution_count": 12,
   "metadata": {},
   "outputs": [
    {
     "name": "stdout",
     "output_type": "stream",
     "text": [
      "[[1 2 3]\n",
      " [4 5 6]]\n",
      "[[1 4]\n",
      " [2 5]\n",
      " [3 6]]\n",
      "[[1 4]\n",
      " [2 5]\n",
      " [3 6]]\n",
      "[[1 2]\n",
      " [3 4]\n",
      " [5 6]]\n"
     ]
    }
   ],
   "source": [
    "# transpose\n",
    "print(arr_int)\n",
    "print(arr_int.T)\n",
    "print(np.transpose(arr_int))\n",
    "print(arr_int.reshape(arr_int.shape[1], arr_int.shape[0]))"
   ]
  },
  {
   "cell_type": "code",
   "execution_count": 13,
   "metadata": {},
   "outputs": [
    {
     "name": "stdout",
     "output_type": "stream",
     "text": [
      "[[1, 2, 3], [4, 5, 6], [1, 2, 3], [4, 5, 6]]\n",
      "[[ 2  4  6]\n",
      " [ 8 10 12]]\n",
      "[[[10. 20.]\n",
      "  [30. 40.]\n",
      "  [ 1.  2.]]\n",
      "\n",
      " [[50. 60.]\n",
      "  [70. 80.]\n",
      "  [ 5.  6.]]]\n",
      "[0.  0.  0.1 0.2]\n",
      "[[ 1  4  9]\n",
      " [16 25 36]]\n",
      "[[1. 1. 1.]\n",
      " [1. 1. 1.]]\n",
      "[[1 2 3]\n",
      " [4 5 6]]\n",
      "[[21]]\n"
     ]
    }
   ],
   "source": [
    "# mathematics operation\n",
    "print(dummy_list + dummy_list)\n",
    "print(arr_int + arr_int)\n",
    "print(arr3d_int * 10)\n",
    "print(np.round(arr1d_float * arr1d_float, decimals=1))\n",
    "print(arr_int * arr_int)\n",
    "print(arr_int / arr_int)\n",
    "\n",
    "print(arr_int)\n",
    "print(arr_int.sum(keepdims=True))"
   ]
  },
  {
   "cell_type": "code",
   "execution_count": 14,
   "metadata": {},
   "outputs": [
    {
     "name": "stdout",
     "output_type": "stream",
     "text": [
      "[0.1 0.2 0.3 0.4] [0.1 0.2 0.3 0.4]\n",
      "0.30000000000000004\n",
      "[[[10. 20.]\n",
      "  [30. 40.]\n",
      "  [ 1.  2.]]\n",
      "\n",
      " [[50. 60.]\n",
      "  [70. 80.]\n",
      "  [ 5.  6.]]]\n",
      "[[1 2 3]\n",
      " [4 5 6]]\n",
      "[[14 32]\n",
      " [32 77]]\n",
      "[[17 22 27]\n",
      " [22 29 36]\n",
      " [27 36 45]]\n",
      "[[14 32]\n",
      " [32 77]]\n"
     ]
    }
   ],
   "source": [
    "print(arr1d_float, arr1d_float)\n",
    "print(np.dot(arr1d_float, arr1d_float))\n",
    "print(np.dot(arr3d_int, 10))\n",
    "\n",
    "print(arr_int)\n",
    "print(np.dot(arr_int, arr_int.T))\n",
    "\n",
    "print(np.matmul(arr_int.T, arr_int))\n",
    "print(np.matmul(arr_int, arr_int.T))\n",
    "# print(np.einsum(\"ij,jk->ik\", arr_int, arr_int))"
   ]
  },
  {
   "cell_type": "code",
   "execution_count": 15,
   "metadata": {},
   "outputs": [
    {
     "name": "stdout",
     "output_type": "stream",
     "text": [
      "[[4 9 6]\n",
      " [4 5 6]]\n",
      "[[0.82876716 0.03982066 0.88557674 0.56628677 0.19393237 0.14565492\n",
      "  0.40990853 0.53280216 0.6360411  0.77913585]\n",
      " [0.18321795 0.71724934 0.67459823 0.62620454 0.77384383 0.90907453\n",
      "  0.53260671 0.91125689 0.22051516 0.34970031]\n",
      " [0.75260033 0.28641387 0.03335391 0.36456128 0.02202929 0.03386637\n",
      "  0.34900385 0.38150467 0.54428275 0.38126547]\n",
      " [0.09674482 0.4000368  0.18712556 0.27461965 0.64496604 0.25389336\n",
      "  0.83903932 0.08990992 0.50659554 0.46367255]\n",
      " [0.01459832 0.29494882 0.06419573 0.70620446 0.77242503 0.28523068\n",
      "  0.8208583  0.48562357 0.2011185  0.16042918]\n",
      " [0.61632528 0.45131052 0.67672624 0.69850492 0.64819182 0.7214533\n",
      "  0.06246391 0.92776501 0.19019611 0.92000302]\n",
      " [0.10461661 0.80062938 0.03529367 0.34990067 0.31906082 0.45011853\n",
      "  0.65560193 0.97266826 0.97510515 0.79167857]\n",
      " [0.01028781 0.52176406 0.92893453 0.99774368 0.13001397 0.52505961\n",
      "  0.79647601 0.96691126 0.2066443  0.6714573 ]\n",
      " [0.48809898 0.88592363 0.67323158 0.97564678 0.4906887  0.45369821\n",
      "  0.10118595 0.04276978 0.37939477 0.79748979]\n",
      " [0.70334169 0.25125699 0.82538402 0.73998128 0.22403111 0.82181088\n",
      "  0.36558936 0.38783484 0.11882899 0.49159444]]\n",
      "[[ 0.28214279 -1.16743027 -0.98167052 ...  2.03159356  0.37994825\n",
      "   0.67528069]\n",
      " [-1.28113124 -0.91661993  0.99390977 ...  0.27408377  0.44382551\n",
      "   1.48950572]\n",
      " [ 0.03715251  1.48363642 -0.29226286 ...  0.32178915 -1.31758914\n",
      "  -1.09534111]\n",
      " ...\n",
      " [ 0.18157176  2.4495867  -1.58127515 ...  0.68751426 -0.71458209\n",
      "  -0.54161144]\n",
      " [-0.90790883 -0.71796087 -0.06596475 ... -0.1037994   0.18882979\n",
      "  -1.22504615]\n",
      " [-0.18832316 -0.80949557  2.00152462 ... -1.48387176  0.18630246\n",
      "  -0.18621286]]\n",
      "[[ 3.9450658 ]\n",
      " [13.75172562]\n",
      " [11.99584747]\n",
      " [16.38007023]\n",
      " [ 4.91128319]]\n"
     ]
    }
   ],
   "source": [
    "np.random.seed(11111)\n",
    "\n",
    "print(np.random.randint(10, size=(2, 3)))\n",
    "print(np.random.uniform(size=(10, 10)))\n",
    "print(np.random.randn(100, 100))\n",
    "print(np.random.normal(1., 10, size=(5, 1)))"
   ]
  }
 ],
 "metadata": {
  "kernelspec": {
   "display_name": "Python 3",
   "language": "python",
   "name": "python3"
  },
  "language_info": {
   "codemirror_mode": {
    "name": "ipython",
    "version": 3
   },
   "file_extension": ".py",
   "mimetype": "text/x-python",
   "name": "python",
   "nbconvert_exporter": "python",
   "pygments_lexer": "ipython3",
   "version": "3.8.5"
  }
 },
 "nbformat": 4,
 "nbformat_minor": 4
}
