{
 "cells": [
  {
   "cell_type": "markdown",
   "metadata": {},
   "source": [
    "# Descriptive Statistics with Python"
   ]
  },
  {
   "cell_type": "code",
   "execution_count": 1,
   "metadata": {},
   "outputs": [],
   "source": [
    "import math\n",
    "import statistics\n",
    "\n",
    "import numpy as np\n",
    "import scipy\n",
    "import scipy.stats\n",
    "import pandas as pd\n",
    "import seaborn as sns"
   ]
  },
  {
   "cell_type": "code",
   "execution_count": 2,
   "metadata": {},
   "outputs": [
    {
     "name": "stdout",
     "output_type": "stream",
     "text": [
      "Numpy version: 1.19.1\n",
      "Scipy version: 1.5.2\n",
      "Pandas version: 1.1.2\n"
     ]
    }
   ],
   "source": [
    "print(\"Numpy version:\", np.__version__)\n",
    "print(\"Scipy version:\", scipy.__version__)\n",
    "print(\"Pandas version:\", pd.__version__)"
   ]
  },
  {
   "cell_type": "code",
   "execution_count": 3,
   "metadata": {},
   "outputs": [
    {
     "name": "stdout",
     "output_type": "stream",
     "text": [
      "[8.0, 1, 2.5, 4, 28.0]\n",
      "[8.0, 1, 2.5, nan, 4, 28.0]\n"
     ]
    }
   ],
   "source": [
    "list_x = [8., 1, 2.5, 4, 28.]\n",
    "list_x_nan = [8., 1, 2.5, math.nan, 4, 28.]\n",
    "\n",
    "print(list_x)\n",
    "print(list_x_nan)"
   ]
  },
  {
   "cell_type": "code",
   "execution_count": 4,
   "metadata": {},
   "outputs": [
    {
     "name": "stdout",
     "output_type": "stream",
     "text": [
      "[ 8.   1.   2.5  4.  28. ] [ 8.   1.   2.5  nan  4.  28. ]\n",
      "0     8.0\n",
      "1     1.0\n",
      "2     2.5\n",
      "3     4.0\n",
      "4    28.0\n",
      "dtype: float64\n",
      "0     8.0\n",
      "1     1.0\n",
      "2     2.5\n",
      "3     NaN\n",
      "4     4.0\n",
      "5    28.0\n",
      "dtype: float64\n"
     ]
    }
   ],
   "source": [
    "arr_x, arr_x_nan = np.array(list_x), np.array(list_x_nan)\n",
    "series_x, series_x_nan = pd.Series(list_x), pd.Series(list_x_nan)\n",
    "\n",
    "print(arr_x, arr_x_nan)\n",
    "print(series_x, series_x_nan, sep=\"\\n\")"
   ]
  },
  {
   "cell_type": "markdown",
   "metadata": {},
   "source": [
    "## Mean"
   ]
  },
  {
   "cell_type": "markdown",
   "metadata": {},
   "source": [
    "### Arithmetic Mean"
   ]
  },
  {
   "cell_type": "code",
   "execution_count": 5,
   "metadata": {},
   "outputs": [
    {
     "name": "stdout",
     "output_type": "stream",
     "text": [
      "Native mean: 8.7\n",
      "Statistics mean: 8.7\n"
     ]
    }
   ],
   "source": [
    "native_mean = sum(list_x) / len(list_x)\n",
    "stats_mean = statistics.mean(list_x)\n",
    "print(\"Native mean:\", native_mean)\n",
    "print(\"Statistics mean:\", stats_mean)"
   ]
  },
  {
   "cell_type": "code",
   "execution_count": 6,
   "metadata": {},
   "outputs": [
    {
     "name": "stdout",
     "output_type": "stream",
     "text": [
      "List x with NaN: [8.0, 1, 2.5, nan, 4, 28.0]\n",
      "Native mean with NaN: nan\n",
      "Statistics mean with NaN: nan\n",
      "Array mean with NaN: nan\n",
      "Numpy mean with NaN: nan\n"
     ]
    }
   ],
   "source": [
    "print(\"List x with NaN:\", list_x_nan)\n",
    "\n",
    "native_mean_nan = sum(list_x_nan) / len(list_x_nan)\n",
    "stats_mean_nan = statistics.mean(list_x_nan)\n",
    "arr_mean_nan = arr_x_nan.mean()\n",
    "np_mean_nan = np.mean(arr_x_nan)\n",
    "\n",
    "print(\"Native mean with NaN:\", native_mean_nan)\n",
    "print(\"Statistics mean with NaN:\", stats_mean_nan)\n",
    "print(\"Array mean with NaN:\", arr_mean_nan)\n",
    "print(\"Numpy mean with NaN:\", np_mean_nan)"
   ]
  },
  {
   "cell_type": "code",
   "execution_count": 7,
   "metadata": {},
   "outputs": [
    {
     "name": "stdout",
     "output_type": "stream",
     "text": [
      "Numpy mean with NaN ignored: 8.7\n"
     ]
    }
   ],
   "source": [
    "np_mean_ignoring_nan = np.nanmean(arr_x_nan)\n",
    "print(\"Numpy mean with NaN ignored:\", np_mean_ignoring_nan)"
   ]
  },
  {
   "cell_type": "code",
   "execution_count": 8,
   "metadata": {},
   "outputs": [
    {
     "data": {
      "text/plain": [
       "(8.7, 8.7, nan)"
      ]
     },
     "execution_count": 8,
     "metadata": {},
     "output_type": "execute_result"
    }
   ],
   "source": [
    "# pandas by default will ignore NaNs\n",
    "series_x_nan.mean(), series_x.mean(), series_x_nan.mean(skipna=False)"
   ]
  },
  {
   "cell_type": "markdown",
   "metadata": {},
   "source": [
    "### Weighted Mean"
   ]
  },
  {
   "cell_type": "code",
   "execution_count": 9,
   "metadata": {},
   "outputs": [
    {
     "name": "stdout",
     "output_type": "stream",
     "text": [
      "List x: [8.0, 1, 2.5, 4, 28.0]\n",
      "List weights: [0.1, 0.2, 0.3, 0.25, 0.15]\n"
     ]
    }
   ],
   "source": [
    "list_weight = [.1, .2, .3, .25, .15]\n",
    "print(\"List x:\", list_x)\n",
    "print(\"List weights:\", list_weight)"
   ]
  },
  {
   "cell_type": "code",
   "execution_count": 10,
   "metadata": {},
   "outputs": [
    {
     "name": "stdout",
     "output_type": "stream",
     "text": [
      "6.95\n"
     ]
    }
   ],
   "source": [
    "jumlah = 0\n",
    "for idx in range(len(list_x)):\n",
    "    jumlah += list_weight[idx] * list_x[idx]\n",
    "print(jumlah)"
   ]
  },
  {
   "cell_type": "code",
   "execution_count": 11,
   "metadata": {},
   "outputs": [
    {
     "name": "stdout",
     "output_type": "stream",
     "text": [
      "6.95\n",
      "6.95\n",
      "6.95\n"
     ]
    }
   ],
   "source": [
    "weighted_mean = sum(list_weight[idx] * list_x[idx] for idx in range(len(list_x))) / sum(list_weight)\n",
    "print(weighted_mean)\n",
    "\n",
    "weighted_mean = sum(w*x for w, x in zip(list_weight, list_x)) / sum(list_weight)\n",
    "print(weighted_mean)\n",
    "\n",
    "weighted_mean = np.average(list_x, weights=list_weight)\n",
    "print(weighted_mean)"
   ]
  },
  {
   "cell_type": "markdown",
   "metadata": {},
   "source": [
    "### Harmonic Mean"
   ]
  },
  {
   "cell_type": "code",
   "execution_count": 12,
   "metadata": {
    "scrolled": true
   },
   "outputs": [
    {
     "name": "stdout",
     "output_type": "stream",
     "text": [
      "Native harmonic mean: 2.7613412228796843\n",
      "Native arithmetic mean: 8.7\n",
      "Scipy harmonic mean: 2.7613412228796843\n",
      "Statistics harmonic mean: 2.7613412228796843\n"
     ]
    }
   ],
   "source": [
    "harmonic_mean = len(list_x) / sum(1 / x for x in list_x)\n",
    "scipy_harmonic_mean = scipy.stats.hmean(list_x)\n",
    "stats_harmonic_mean = statistics.harmonic_mean(list_x)\n",
    "print(\"Native harmonic mean:\", harmonic_mean)\n",
    "print(\"Native arithmetic mean:\", sum(list_x) / len(list_x))\n",
    "print(\"Scipy harmonic mean:\", scipy_harmonic_mean)\n",
    "print(\"Statistics harmonic mean:\", stats_harmonic_mean)"
   ]
  },
  {
   "cell_type": "markdown",
   "metadata": {},
   "source": [
    "### Geometric Mean"
   ]
  },
  {
   "cell_type": "code",
   "execution_count": 13,
   "metadata": {},
   "outputs": [
    {
     "name": "stdout",
     "output_type": "stream",
     "text": [
      "Native geometric mean: 4.677885674856041\n",
      "Scipy geometric mean: 4.67788567485604\n",
      "Scipy geometric mean with nan: nan\n"
     ]
    }
   ],
   "source": [
    "geometric_mean = 1\n",
    "for value in list_x:\n",
    "    geometric_mean *= value\n",
    "geometric_mean **= (1/len(list_x))\n",
    "print(\"Native geometric mean:\", geometric_mean)\n",
    "\n",
    "scipy_geometric_mean = scipy.stats.gmean(list_x)\n",
    "print(\"Scipy geometric mean:\", scipy_geometric_mean)\n",
    "\n",
    "print(\"Scipy geometric mean with nan:\", scipy.stats.gmean(list_x_nan))"
   ]
  },
  {
   "cell_type": "markdown",
   "metadata": {},
   "source": [
    "## Median"
   ]
  },
  {
   "cell_type": "code",
   "execution_count": 14,
   "metadata": {},
   "outputs": [
    {
     "name": "stdout",
     "output_type": "stream",
     "text": [
      "[1, 2.5, 4, 8.0, 28.0]\n",
      "Number of values: 5\n",
      "Native median: 4\n"
     ]
    }
   ],
   "source": [
    "num_data = len(list_x)\n",
    "print(sorted(list_x))\n",
    "print(\"Number of values:\", num_data)\n",
    "\n",
    "if num_data % 2:    # n is odd\n",
    "    native_median = sorted(list_x)[round((num_data-1) / 2)]\n",
    "else:    # n is even\n",
    "    median_idx = num_data / 2\n",
    "    native_median = (sorted(x)[median_idx-1] + sorted(x)[median_idx]) / 2\n",
    "print(\"Native median:\", native_median)"
   ]
  },
  {
   "cell_type": "code",
   "execution_count": 15,
   "metadata": {},
   "outputs": [
    {
     "name": "stdout",
     "output_type": "stream",
     "text": [
      "[1, 2.5, 4, 8.0]\n",
      "Number of values: 4\n",
      "Native median: 3.25\n"
     ]
    }
   ],
   "source": [
    "num_data = len(list_x[:-1])\n",
    "print(sorted(list_x[:-1]))\n",
    "print(\"Number of values:\", num_data)\n",
    "\n",
    "if num_data % 2:    # n is odd\n",
    "    native_median = sorted(list_x)[round((num_data-1) / 2)]\n",
    "else:    # n is even\n",
    "    median_idx = round(num_data / 2)\n",
    "    native_median = (sorted(list_x)[median_idx-1] + sorted(list_x)[median_idx]) / 2\n",
    "print(\"Native median:\", native_median)"
   ]
  },
  {
   "cell_type": "code",
   "execution_count": 16,
   "metadata": {},
   "outputs": [
    {
     "name": "stdout",
     "output_type": "stream",
     "text": [
      "4\n",
      "3.25\n",
      "4\n",
      "2.5\n",
      "[1, 2.5, 4, 8.0, nan, 28.0]\n",
      "6.0\n",
      "8.0\n",
      "4\n",
      "[1, 2.5, nan, 4, 28.0]\n",
      "nan\n",
      "nan\n",
      "nan\n",
      "Numpy median: 4.0\n",
      "Numpy median list_x[:-1]: 3.25\n",
      "Numpy median with NaN: nan\n",
      "Numpy median with NaN list_x_nan[1:]: nan\n",
      "Numpy median ignoring NaN: 4.0\n",
      "Numpy median ignoring NaN list_x_nan[1:]: 3.25\n"
     ]
    }
   ],
   "source": [
    "print(statistics.median(list_x))\n",
    "print(statistics.median(list_x[:-1]))\n",
    "\n",
    "print(statistics.median_high(list_x[:-1]))\n",
    "print(statistics.median_low(list_x[:-1]))\n",
    "\n",
    "print(sorted(list_x_nan))\n",
    "print(statistics.median(list_x_nan))\n",
    "print(statistics.median_high(list_x_nan))\n",
    "print(statistics.median_low(list_x_nan))\n",
    "\n",
    "print(sorted(list_x_nan[1:]))\n",
    "print(statistics.median(list_x_nan[1:]))\n",
    "print(statistics.median_high(list_x_nan[1:]))\n",
    "print(statistics.median_low(list_x_nan[1:]))\n",
    "\n",
    "np_median = np.median(list_x)\n",
    "print(\"Numpy median:\", np_median)\n",
    "print(\"Numpy median list_x[:-1]:\", np.median(list_x[:-1]))\n",
    "print(\"Numpy median with NaN:\", np.median(list_x_nan))\n",
    "print(\"Numpy median with NaN list_x_nan[1:]:\", np.median(list_x_nan[1:]))\n",
    "print(\"Numpy median ignoring NaN:\", np.nanmedian(list_x_nan))\n",
    "print(\"Numpy median ignoring NaN list_x_nan[1:]:\", np.nanmedian(list_x_nan[1:]))"
   ]
  },
  {
   "cell_type": "markdown",
   "metadata": {},
   "source": [
    "## Mode"
   ]
  },
  {
   "cell_type": "code",
   "execution_count": 17,
   "metadata": {
    "scrolled": true
   },
   "outputs": [
    {
     "name": "stdout",
     "output_type": "stream",
     "text": [
      "List u: [2, 8, 3, 2, 12]\n",
      "List v: [12, 15, 21, 15, 16, 16]\n"
     ]
    }
   ],
   "source": [
    "list_u = [2, 8, 3, 2, 12]\n",
    "list_v = [12, 15, 21, 15, 16, 16]\n",
    "\n",
    "print(\"List u:\", list_u)\n",
    "print(\"List v:\", list_v)"
   ]
  },
  {
   "cell_type": "code",
   "execution_count": 18,
   "metadata": {},
   "outputs": [
    {
     "name": "stdout",
     "output_type": "stream",
     "text": [
      "Native mode u: 2\n",
      "Set of list_v: {16, 12, 21, 15}\n",
      "Native mode v: 16\n",
      "Statistics mode u: 2\n",
      "Scipy mode u: ModeResult(mode=array([2]), count=array([2])) [2] [2]\n",
      "Scipy mode v: ModeResult(mode=array([15]), count=array([2])) [15] [2]\n",
      "0    2\n",
      "dtype: int64\n",
      "0    15\n",
      "1    16\n",
      "dtype: int64\n",
      "0    2.0\n",
      "dtype: float64\n",
      "0   NaN\n",
      "dtype: float64\n"
     ]
    }
   ],
   "source": [
    "native_mode_u = max((list_u.count(value), value) for value in set(list_u))[1]\n",
    "native_mode_v = max((list_v.count(value), value) for value in set(list_v))[1]\n",
    "print(\"Native mode u:\", native_mode_u)\n",
    "print(\"Set of list_v:\", set(list_v))\n",
    "print(\"Native mode v:\", native_mode_v)\n",
    "\n",
    "stats_mode_u = statistics.mode(list_u)\n",
    "# stats_mode_v = statistics.mode(list_v)    # will throw error\n",
    "print(\"Statistics mode u:\", stats_mode_u)\n",
    "# print(\"Statistics mode v:\", stats_mode_v)    # will throw error\n",
    "\n",
    "scipy_mode_u = scipy.stats.mode(list_u)\n",
    "scipy_mode_v = scipy.stats.mode(list_v)\n",
    "print(\"Scipy mode u:\", scipy_mode_u, scipy_mode_u.mode, scipy_mode_u.count)\n",
    "print(\"Scipy mode v:\", scipy_mode_v, scipy_mode_v.mode, scipy_mode_v.count)\n",
    "\n",
    "series_u, series_v = pd.Series(list_u), pd.Series(list_v)\n",
    "print(series_u.mode())\n",
    "print(series_v.mode())\n",
    "\n",
    "series_w = pd.Series([2, 2, math.nan, math.nan, math.nan])\n",
    "print(series_w.mode())\n",
    "print(series_w.mode(dropna=False))"
   ]
  },
  {
   "cell_type": "markdown",
   "metadata": {},
   "source": [
    "### Variance"
   ]
  },
  {
   "cell_type": "code",
   "execution_count": 19,
   "metadata": {},
   "outputs": [
    {
     "name": "stdout",
     "output_type": "stream",
     "text": [
      "Native sample variance: 123.19999999999999\n",
      "Statistics sample variance: 123.2\n",
      "Statistics sample variance with nan: nan\n",
      "Numpy sample variance: 123.19999999999999\n",
      "Numpy sample variance with nan: nan\n",
      "Array sample variance: 123.19999999999999\n",
      "Array sample variance with nan: nan\n",
      "Series sample variance: 123.19999999999999\n",
      "Series sample variance with nan: 123.19999999999999\n"
     ]
    }
   ],
   "source": [
    "n = len(list_x)\n",
    "avg = sum(list_x) / n\n",
    "\n",
    "native_variance = sum((value - avg)**2 for value in list_x) / (n-1)\n",
    "print(\"Native sample variance:\", native_variance)\n",
    "\n",
    "stats_variance = statistics.variance(list_x)\n",
    "print(\"Statistics sample variance:\", stats_variance)\n",
    "print(\"Statistics sample variance with nan:\", statistics.variance(list_x_nan))\n",
    "\n",
    "np_variance = np.var(list_x, ddof=1)\n",
    "print(\"Numpy sample variance:\", np_variance)\n",
    "print(\"Numpy sample variance with nan:\", np.var(list_x_nan, ddof=1))\n",
    "\n",
    "arr_variance = arr_x.var(ddof=1)\n",
    "print(\"Array sample variance:\", arr_variance)\n",
    "print(\"Array sample variance with nan:\", arr_x_nan.var(ddof=1))\n",
    "\n",
    "series_variance = series_x.var()\n",
    "series_variance_nan = series_x_nan.var()\n",
    "print(\"Series sample variance:\", series_variance)\n",
    "print(\"Series sample variance with nan:\", series_variance_nan)"
   ]
  },
  {
   "cell_type": "markdown",
   "metadata": {},
   "source": [
    "## Standard Deviation"
   ]
  },
  {
   "cell_type": "code",
   "execution_count": 20,
   "metadata": {},
   "outputs": [
    {
     "name": "stdout",
     "output_type": "stream",
     "text": [
      "Native sample std: 11.099549540409285\n",
      "Statistics sample std: 11.099549540409287\n",
      "Numpy sample std: 11.099549540409285\n",
      "Array sample std: 11.099549540409285\n",
      "Series sample variance: 11.099549540409285\n",
      "Series sample variance with nan: 11.099549540409285\n"
     ]
    }
   ],
   "source": [
    "native_stdev = native_variance ** .5\n",
    "print(\"Native sample std:\", native_stdev)\n",
    "\n",
    "stats_stdev = statistics.stdev(list_x)\n",
    "print(\"Statistics sample std:\", stats_stdev)\n",
    "\n",
    "np_stdev = np.std(list_x, ddof=1)\n",
    "arr_stdev = arr_x.std(ddof=1)\n",
    "print(\"Numpy sample std:\", np_stdev)\n",
    "print(\"Array sample std:\", arr_stdev)\n",
    "\n",
    "series_stdev = series_x.std()\n",
    "series_stdev_nan = series_x_nan.std()\n",
    "print(\"Series sample variance:\", series_stdev)\n",
    "print(\"Series sample variance with nan:\", series_stdev_nan)"
   ]
  },
  {
   "cell_type": "markdown",
   "metadata": {},
   "source": [
    "## Skewness"
   ]
  },
  {
   "cell_type": "code",
   "execution_count": 21,
   "metadata": {},
   "outputs": [
    {
     "name": "stdout",
     "output_type": "stream",
     "text": [
      "List x: [8.0, 1, 2.5, 4, 28.0]\n",
      "Skewness: 1.9470432273905929\n"
     ]
    }
   ],
   "source": [
    "print(\"List x:\", list_x)\n",
    "n = len(list_x)\n",
    "avg = sum(list_x) / n\n",
    "var_ = sum((value - avg)**2 for value in list_x) / (n-1)\n",
    "stdev_ = var_ ** .5\n",
    "\n",
    "skewness_ = (sum((value - avg)**3 for value in list_x) * n / ((n - 1) * (n - 2) * stdev_**3))\n",
    "print(\"Skewness:\", skewness_)"
   ]
  },
  {
   "cell_type": "code",
   "execution_count": 22,
   "metadata": {},
   "outputs": [
    {
     "data": {
      "text/plain": [
       "1.9470432273905927"
      ]
     },
     "execution_count": 22,
     "metadata": {},
     "output_type": "execute_result"
    }
   ],
   "source": [
    "scipy.stats.skew(list_x, bias=False)"
   ]
  },
  {
   "cell_type": "code",
   "execution_count": 23,
   "metadata": {},
   "outputs": [
    {
     "data": {
      "text/plain": [
       "masked_array(data=1.94704323,\n",
       "             mask=False,\n",
       "       fill_value=1e+20)"
      ]
     },
     "execution_count": 23,
     "metadata": {},
     "output_type": "execute_result"
    }
   ],
   "source": [
    "scipy.stats.skew(list_x_nan, bias=False, nan_policy=\"omit\")"
   ]
  },
  {
   "cell_type": "code",
   "execution_count": 24,
   "metadata": {},
   "outputs": [
    {
     "data": {
      "text/plain": [
       "1.9470432273905924"
      ]
     },
     "execution_count": 24,
     "metadata": {},
     "output_type": "execute_result"
    }
   ],
   "source": [
    "series_x.skew()"
   ]
  },
  {
   "cell_type": "markdown",
   "metadata": {},
   "source": [
    "## Percentiles"
   ]
  },
  {
   "cell_type": "code",
   "execution_count": 25,
   "metadata": {},
   "outputs": [
    {
     "name": "stdout",
     "output_type": "stream",
     "text": [
      "[ 8.   1.   2.5  4.  28. ]\n",
      "25th percentile: 2.5\n",
      "50th percentile: 4.0\n",
      "75th percentile: 8.0\n",
      "Quartiles: [2.5 4.  8. ]\n"
     ]
    }
   ],
   "source": [
    "print(arr_x)\n",
    "percentile_50 = np.percentile(arr_x, 50)\n",
    "percentile_25 = np.percentile(arr_x, 25)\n",
    "percentile_75 = np.percentile(arr_x, 75)\n",
    "print(\"25th percentile:\", percentile_25)\n",
    "print(\"50th percentile:\", percentile_50)\n",
    "print(\"75th percentile:\", percentile_75)\n",
    "\n",
    "print(\"Quartiles:\", np.percentile(arr_x, [25, 50, 75]))"
   ]
  },
  {
   "cell_type": "code",
   "execution_count": 26,
   "metadata": {},
   "outputs": [
    {
     "data": {
      "text/plain": [
       "0.25    2.5\n",
       "0.50    4.0\n",
       "0.75    8.0\n",
       "dtype: float64"
      ]
     },
     "execution_count": 26,
     "metadata": {},
     "output_type": "execute_result"
    }
   ],
   "source": [
    "series_x.quantile([.25, .5, .75])"
   ]
  },
  {
   "cell_type": "code",
   "execution_count": 27,
   "metadata": {},
   "outputs": [
    {
     "data": {
      "text/plain": [
       "0.25    2.5\n",
       "0.50    4.0\n",
       "0.75    8.0\n",
       "dtype: float64"
      ]
     },
     "execution_count": 27,
     "metadata": {},
     "output_type": "execute_result"
    }
   ],
   "source": [
    "series_x_nan.quantile([.25, .5, .75])"
   ]
  },
  {
   "cell_type": "markdown",
   "metadata": {},
   "source": [
    "## Range"
   ]
  },
  {
   "cell_type": "code",
   "execution_count": 28,
   "metadata": {},
   "outputs": [
    {
     "name": "stdout",
     "output_type": "stream",
     "text": [
      "List x: [8.0, 1, 2.5, 4, 28.0]\n",
      "27.0\n",
      "List x with nan: [8.0, 1, 2.5, nan, 4, 28.0]\n",
      "nan\n"
     ]
    }
   ],
   "source": [
    "print(\"List x:\", list_x)\n",
    "print(np.ptp(list_x))\n",
    "\n",
    "print(\"List x with nan:\", list_x_nan)\n",
    "print(np.ptp(list_x_nan))"
   ]
  },
  {
   "cell_type": "code",
   "execution_count": 29,
   "metadata": {},
   "outputs": [
    {
     "data": {
      "text/plain": [
       "27.0"
      ]
     },
     "execution_count": 29,
     "metadata": {},
     "output_type": "execute_result"
    }
   ],
   "source": [
    "np.nanmax(list_x_nan) - np.nanmin(list_x_nan)"
   ]
  },
  {
   "cell_type": "code",
   "execution_count": 30,
   "metadata": {},
   "outputs": [
    {
     "name": "stdout",
     "output_type": "stream",
     "text": [
      "27.0\n",
      "27.0\n"
     ]
    }
   ],
   "source": [
    "print(series_x.max() - series_x.min())\n",
    "print(series_x_nan.max() - series_x_nan.min())"
   ]
  },
  {
   "cell_type": "markdown",
   "metadata": {},
   "source": [
    "## Interquartile Range"
   ]
  },
  {
   "cell_type": "code",
   "execution_count": 31,
   "metadata": {},
   "outputs": [
    {
     "name": "stdout",
     "output_type": "stream",
     "text": [
      "[2.5 4.  8. ]\n",
      "IQR: 5.5\n"
     ]
    }
   ],
   "source": [
    "np_quartiles = np.quantile(list_x, [.25, .5, .75])\n",
    "print(np_quartiles)\n",
    "\n",
    "np_iqr = np_quartiles[-1] - np_quartiles[0]\n",
    "print(\"IQR:\", np_iqr)"
   ]
  },
  {
   "cell_type": "markdown",
   "metadata": {},
   "source": [
    "## Covariance"
   ]
  },
  {
   "cell_type": "code",
   "execution_count": 32,
   "metadata": {},
   "outputs": [
    {
     "name": "stdout",
     "output_type": "stream",
     "text": [
      "21 21\n"
     ]
    }
   ],
   "source": [
    "list_x = list(range(-10, 11))\n",
    "list_y = [0, 2, 2, 2, 2, 3, 3, 6, 7, 4, 7, 6, 6, 9, 4, 5, 5, 10, 11, 12, 14]\n",
    "print(len(list_x), len(list_y))"
   ]
  },
  {
   "cell_type": "code",
   "execution_count": 33,
   "metadata": {},
   "outputs": [
    {
     "name": "stdout",
     "output_type": "stream",
     "text": [
      "0.0 5.714285714285714\n",
      "42.142857142857146\n"
     ]
    }
   ],
   "source": [
    "mean_x, mean_y = sum(list_x)/len(list_x), sum(list_y)/len(list_y)\n",
    "print(mean_x, mean_y)\n",
    "\n",
    "# sigma_x, sigma_y = np.array([x-mean_x for x in list_x]), np.array([y-mean_y for y in list_y])\n",
    "\n",
    "# cov_xy = (sigma_x*sigma_y).sum() / n-1\n",
    "cov_xy = (sum((list_x[idx] - mean_x)*(list_y[idx] - mean_y) for idx in range(n)) / (n-1))\n",
    "cov_xy = (sum((list_x[idx] - mean_x)*(list_y[idx] - mean_y) for idx in range(n)) / (n - 1))\n",
    "print(cov_xy)"
   ]
  },
  {
   "cell_type": "code",
   "execution_count": 34,
   "metadata": {},
   "outputs": [
    {
     "data": {
      "text/plain": [
       "array([[38.5       , 19.95      ],\n",
       "       [19.95      , 13.91428571]])"
      ]
     },
     "execution_count": 34,
     "metadata": {},
     "output_type": "execute_result"
    }
   ],
   "source": [
    "np.cov(list_x, list_y)"
   ]
  },
  {
   "cell_type": "markdown",
   "metadata": {},
   "source": [
    "## Correlation"
   ]
  },
  {
   "cell_type": "code",
   "execution_count": 35,
   "metadata": {},
   "outputs": [
    {
     "name": "stdout",
     "output_type": "stream",
     "text": [
      "[-10, -9, -8, -7, -6, -5, -4, -3, -2, -1, 0, 1, 2, 3, 4, 5, 6, 7, 8, 9, 10]\n",
      "[0, 2, 2, 2, 2, 3, 3, 6, 7, 4, 7, 6, 6, 9, 4, 5, 5, 10, 11, 12, 14]\n"
     ]
    }
   ],
   "source": [
    "print(list_x)\n",
    "print(list_y)\n",
    "r, p = scipy.stats.pearsonr(list_x, list_y)"
   ]
  },
  {
   "cell_type": "code",
   "execution_count": 36,
   "metadata": {},
   "outputs": [
    {
     "data": {
      "text/plain": [
       "array([[1.        , 0.86195001],\n",
       "       [0.86195001, 1.        ]])"
      ]
     },
     "execution_count": 36,
     "metadata": {},
     "output_type": "execute_result"
    }
   ],
   "source": [
    "np.corrcoef(list_x, list_y)"
   ]
  },
  {
   "cell_type": "code",
   "execution_count": 37,
   "metadata": {},
   "outputs": [
    {
     "data": {
      "text/plain": [
       "1.0"
      ]
     },
     "execution_count": 37,
     "metadata": {},
     "output_type": "execute_result"
    }
   ],
   "source": [
    "series_x.corr(series_x)"
   ]
  },
  {
   "cell_type": "code",
   "execution_count": 38,
   "metadata": {},
   "outputs": [
    {
     "data": {
      "text/plain": [
       "0.8619500056316061"
      ]
     },
     "execution_count": 38,
     "metadata": {},
     "output_type": "execute_result"
    }
   ],
   "source": [
    "series_x = pd.Series(list_x)\n",
    "series_y = pd.Series(list_y)\n",
    "series_x.corr(series_y)"
   ]
  },
  {
   "cell_type": "markdown",
   "metadata": {},
   "source": [
    "## Correlation in 2D data"
   ]
  },
  {
   "cell_type": "code",
   "execution_count": 39,
   "metadata": {},
   "outputs": [
    {
     "name": "stdout",
     "output_type": "stream",
     "text": [
      "[[73 16 22 37 55  5 45 62 33 63]\n",
      " [62 62 28 26 48 62 78 29 29 51]\n",
      " [64 29 48 26 76  7 88 11 15 53]\n",
      " [81 41  8 69 39 47 63  3 99  0]\n",
      " [17 38 60 48 72  0 15 46 24 50]\n",
      " [51 53 59 40 59 98 41 79 72 40]\n",
      " [93 83 16 20 89 52 77  3  9 41]\n",
      " [26  6  4 40 36 14 30 22 73 61]\n",
      " [84 38 51 67  0 42 24  3 98 81]\n",
      " [22 27  7 19 33 25 14 44 52 46]]\n"
     ]
    }
   ],
   "source": [
    "data = np.random.randint(0, 100, size=(10, 10))\n",
    "print(data)"
   ]
  },
  {
   "cell_type": "code",
   "execution_count": 40,
   "metadata": {},
   "outputs": [
    {
     "data": {
      "text/html": [
       "<div>\n",
       "<style scoped>\n",
       "    .dataframe tbody tr th:only-of-type {\n",
       "        vertical-align: middle;\n",
       "    }\n",
       "\n",
       "    .dataframe tbody tr th {\n",
       "        vertical-align: top;\n",
       "    }\n",
       "\n",
       "    .dataframe thead th {\n",
       "        text-align: right;\n",
       "    }\n",
       "</style>\n",
       "<table border=\"1\" class=\"dataframe\">\n",
       "  <thead>\n",
       "    <tr style=\"text-align: right;\">\n",
       "      <th></th>\n",
       "      <th>0</th>\n",
       "      <th>1</th>\n",
       "      <th>2</th>\n",
       "      <th>3</th>\n",
       "      <th>4</th>\n",
       "      <th>5</th>\n",
       "      <th>6</th>\n",
       "      <th>7</th>\n",
       "      <th>8</th>\n",
       "      <th>9</th>\n",
       "    </tr>\n",
       "  </thead>\n",
       "  <tbody>\n",
       "    <tr>\n",
       "      <th>0</th>\n",
       "      <td>73</td>\n",
       "      <td>16</td>\n",
       "      <td>22</td>\n",
       "      <td>37</td>\n",
       "      <td>55</td>\n",
       "      <td>5</td>\n",
       "      <td>45</td>\n",
       "      <td>62</td>\n",
       "      <td>33</td>\n",
       "      <td>63</td>\n",
       "    </tr>\n",
       "    <tr>\n",
       "      <th>1</th>\n",
       "      <td>62</td>\n",
       "      <td>62</td>\n",
       "      <td>28</td>\n",
       "      <td>26</td>\n",
       "      <td>48</td>\n",
       "      <td>62</td>\n",
       "      <td>78</td>\n",
       "      <td>29</td>\n",
       "      <td>29</td>\n",
       "      <td>51</td>\n",
       "    </tr>\n",
       "    <tr>\n",
       "      <th>2</th>\n",
       "      <td>64</td>\n",
       "      <td>29</td>\n",
       "      <td>48</td>\n",
       "      <td>26</td>\n",
       "      <td>76</td>\n",
       "      <td>7</td>\n",
       "      <td>88</td>\n",
       "      <td>11</td>\n",
       "      <td>15</td>\n",
       "      <td>53</td>\n",
       "    </tr>\n",
       "    <tr>\n",
       "      <th>3</th>\n",
       "      <td>81</td>\n",
       "      <td>41</td>\n",
       "      <td>8</td>\n",
       "      <td>69</td>\n",
       "      <td>39</td>\n",
       "      <td>47</td>\n",
       "      <td>63</td>\n",
       "      <td>3</td>\n",
       "      <td>99</td>\n",
       "      <td>0</td>\n",
       "    </tr>\n",
       "    <tr>\n",
       "      <th>4</th>\n",
       "      <td>17</td>\n",
       "      <td>38</td>\n",
       "      <td>60</td>\n",
       "      <td>48</td>\n",
       "      <td>72</td>\n",
       "      <td>0</td>\n",
       "      <td>15</td>\n",
       "      <td>46</td>\n",
       "      <td>24</td>\n",
       "      <td>50</td>\n",
       "    </tr>\n",
       "    <tr>\n",
       "      <th>5</th>\n",
       "      <td>51</td>\n",
       "      <td>53</td>\n",
       "      <td>59</td>\n",
       "      <td>40</td>\n",
       "      <td>59</td>\n",
       "      <td>98</td>\n",
       "      <td>41</td>\n",
       "      <td>79</td>\n",
       "      <td>72</td>\n",
       "      <td>40</td>\n",
       "    </tr>\n",
       "    <tr>\n",
       "      <th>6</th>\n",
       "      <td>93</td>\n",
       "      <td>83</td>\n",
       "      <td>16</td>\n",
       "      <td>20</td>\n",
       "      <td>89</td>\n",
       "      <td>52</td>\n",
       "      <td>77</td>\n",
       "      <td>3</td>\n",
       "      <td>9</td>\n",
       "      <td>41</td>\n",
       "    </tr>\n",
       "    <tr>\n",
       "      <th>7</th>\n",
       "      <td>26</td>\n",
       "      <td>6</td>\n",
       "      <td>4</td>\n",
       "      <td>40</td>\n",
       "      <td>36</td>\n",
       "      <td>14</td>\n",
       "      <td>30</td>\n",
       "      <td>22</td>\n",
       "      <td>73</td>\n",
       "      <td>61</td>\n",
       "    </tr>\n",
       "    <tr>\n",
       "      <th>8</th>\n",
       "      <td>84</td>\n",
       "      <td>38</td>\n",
       "      <td>51</td>\n",
       "      <td>67</td>\n",
       "      <td>0</td>\n",
       "      <td>42</td>\n",
       "      <td>24</td>\n",
       "      <td>3</td>\n",
       "      <td>98</td>\n",
       "      <td>81</td>\n",
       "    </tr>\n",
       "    <tr>\n",
       "      <th>9</th>\n",
       "      <td>22</td>\n",
       "      <td>27</td>\n",
       "      <td>7</td>\n",
       "      <td>19</td>\n",
       "      <td>33</td>\n",
       "      <td>25</td>\n",
       "      <td>14</td>\n",
       "      <td>44</td>\n",
       "      <td>52</td>\n",
       "      <td>46</td>\n",
       "    </tr>\n",
       "  </tbody>\n",
       "</table>\n",
       "</div>"
      ],
      "text/plain": [
       "    0   1   2   3   4   5   6   7   8   9\n",
       "0  73  16  22  37  55   5  45  62  33  63\n",
       "1  62  62  28  26  48  62  78  29  29  51\n",
       "2  64  29  48  26  76   7  88  11  15  53\n",
       "3  81  41   8  69  39  47  63   3  99   0\n",
       "4  17  38  60  48  72   0  15  46  24  50\n",
       "5  51  53  59  40  59  98  41  79  72  40\n",
       "6  93  83  16  20  89  52  77   3   9  41\n",
       "7  26   6   4  40  36  14  30  22  73  61\n",
       "8  84  38  51  67   0  42  24   3  98  81\n",
       "9  22  27   7  19  33  25  14  44  52  46"
      ]
     },
     "execution_count": 40,
     "metadata": {},
     "output_type": "execute_result"
    }
   ],
   "source": [
    "df = pd.DataFrame(data)\n",
    "df"
   ]
  },
  {
   "cell_type": "code",
   "execution_count": 41,
   "metadata": {},
   "outputs": [
    {
     "data": {
      "text/html": [
       "<div>\n",
       "<style scoped>\n",
       "    .dataframe tbody tr th:only-of-type {\n",
       "        vertical-align: middle;\n",
       "    }\n",
       "\n",
       "    .dataframe tbody tr th {\n",
       "        vertical-align: top;\n",
       "    }\n",
       "\n",
       "    .dataframe thead th {\n",
       "        text-align: right;\n",
       "    }\n",
       "</style>\n",
       "<table border=\"1\" class=\"dataframe\">\n",
       "  <thead>\n",
       "    <tr style=\"text-align: right;\">\n",
       "      <th></th>\n",
       "      <th>0</th>\n",
       "      <th>1</th>\n",
       "      <th>2</th>\n",
       "      <th>3</th>\n",
       "      <th>4</th>\n",
       "      <th>5</th>\n",
       "      <th>6</th>\n",
       "      <th>7</th>\n",
       "      <th>8</th>\n",
       "      <th>9</th>\n",
       "    </tr>\n",
       "  </thead>\n",
       "  <tbody>\n",
       "    <tr>\n",
       "      <th>0</th>\n",
       "      <td>1.000000</td>\n",
       "      <td>0.484701</td>\n",
       "      <td>-0.043908</td>\n",
       "      <td>0.205916</td>\n",
       "      <td>0.021387</td>\n",
       "      <td>0.336733</td>\n",
       "      <td>0.628690</td>\n",
       "      <td>-0.476105</td>\n",
       "      <td>0.060483</td>\n",
       "      <td>-0.114374</td>\n",
       "    </tr>\n",
       "    <tr>\n",
       "      <th>1</th>\n",
       "      <td>0.484701</td>\n",
       "      <td>1.000000</td>\n",
       "      <td>0.174962</td>\n",
       "      <td>-0.198519</td>\n",
       "      <td>0.404800</td>\n",
       "      <td>0.653554</td>\n",
       "      <td>0.474682</td>\n",
       "      <td>-0.187904</td>\n",
       "      <td>-0.288753</td>\n",
       "      <td>-0.304004</td>\n",
       "    </tr>\n",
       "    <tr>\n",
       "      <th>2</th>\n",
       "      <td>-0.043908</td>\n",
       "      <td>0.174962</td>\n",
       "      <td>1.000000</td>\n",
       "      <td>0.205327</td>\n",
       "      <td>0.146707</td>\n",
       "      <td>0.141780</td>\n",
       "      <td>-0.090581</td>\n",
       "      <td>0.296610</td>\n",
       "      <td>-0.109933</td>\n",
       "      <td>0.321035</td>\n",
       "    </tr>\n",
       "    <tr>\n",
       "      <th>3</th>\n",
       "      <td>0.205916</td>\n",
       "      <td>-0.198519</td>\n",
       "      <td>0.205327</td>\n",
       "      <td>1.000000</td>\n",
       "      <td>-0.549961</td>\n",
       "      <td>0.046742</td>\n",
       "      <td>-0.299104</td>\n",
       "      <td>-0.220699</td>\n",
       "      <td>0.768833</td>\n",
       "      <td>-0.135404</td>\n",
       "    </tr>\n",
       "    <tr>\n",
       "      <th>4</th>\n",
       "      <td>0.021387</td>\n",
       "      <td>0.404800</td>\n",
       "      <td>0.146707</td>\n",
       "      <td>-0.549961</td>\n",
       "      <td>1.000000</td>\n",
       "      <td>-0.068914</td>\n",
       "      <td>0.502915</td>\n",
       "      <td>0.150009</td>\n",
       "      <td>-0.809502</td>\n",
       "      <td>-0.285684</td>\n",
       "    </tr>\n",
       "    <tr>\n",
       "      <th>5</th>\n",
       "      <td>0.336733</td>\n",
       "      <td>0.653554</td>\n",
       "      <td>0.141780</td>\n",
       "      <td>0.046742</td>\n",
       "      <td>-0.068914</td>\n",
       "      <td>1.000000</td>\n",
       "      <td>0.224826</td>\n",
       "      <td>0.150678</td>\n",
       "      <td>0.316209</td>\n",
       "      <td>-0.308963</td>\n",
       "    </tr>\n",
       "    <tr>\n",
       "      <th>6</th>\n",
       "      <td>0.628690</td>\n",
       "      <td>0.474682</td>\n",
       "      <td>-0.090581</td>\n",
       "      <td>-0.299104</td>\n",
       "      <td>0.502915</td>\n",
       "      <td>0.224826</td>\n",
       "      <td>1.000000</td>\n",
       "      <td>-0.396583</td>\n",
       "      <td>-0.407929</td>\n",
       "      <td>-0.318270</td>\n",
       "    </tr>\n",
       "    <tr>\n",
       "      <th>7</th>\n",
       "      <td>-0.476105</td>\n",
       "      <td>-0.187904</td>\n",
       "      <td>0.296610</td>\n",
       "      <td>-0.220699</td>\n",
       "      <td>0.150009</td>\n",
       "      <td>0.150678</td>\n",
       "      <td>-0.396583</td>\n",
       "      <td>1.000000</td>\n",
       "      <td>-0.107178</td>\n",
       "      <td>0.095499</td>\n",
       "    </tr>\n",
       "    <tr>\n",
       "      <th>8</th>\n",
       "      <td>0.060483</td>\n",
       "      <td>-0.288753</td>\n",
       "      <td>-0.109933</td>\n",
       "      <td>0.768833</td>\n",
       "      <td>-0.809502</td>\n",
       "      <td>0.316209</td>\n",
       "      <td>-0.407929</td>\n",
       "      <td>-0.107178</td>\n",
       "      <td>1.000000</td>\n",
       "      <td>-0.144675</td>\n",
       "    </tr>\n",
       "    <tr>\n",
       "      <th>9</th>\n",
       "      <td>-0.114374</td>\n",
       "      <td>-0.304004</td>\n",
       "      <td>0.321035</td>\n",
       "      <td>-0.135404</td>\n",
       "      <td>-0.285684</td>\n",
       "      <td>-0.308963</td>\n",
       "      <td>-0.318270</td>\n",
       "      <td>0.095499</td>\n",
       "      <td>-0.144675</td>\n",
       "      <td>1.000000</td>\n",
       "    </tr>\n",
       "  </tbody>\n",
       "</table>\n",
       "</div>"
      ],
      "text/plain": [
       "          0         1         2         3         4         5         6  \\\n",
       "0  1.000000  0.484701 -0.043908  0.205916  0.021387  0.336733  0.628690   \n",
       "1  0.484701  1.000000  0.174962 -0.198519  0.404800  0.653554  0.474682   \n",
       "2 -0.043908  0.174962  1.000000  0.205327  0.146707  0.141780 -0.090581   \n",
       "3  0.205916 -0.198519  0.205327  1.000000 -0.549961  0.046742 -0.299104   \n",
       "4  0.021387  0.404800  0.146707 -0.549961  1.000000 -0.068914  0.502915   \n",
       "5  0.336733  0.653554  0.141780  0.046742 -0.068914  1.000000  0.224826   \n",
       "6  0.628690  0.474682 -0.090581 -0.299104  0.502915  0.224826  1.000000   \n",
       "7 -0.476105 -0.187904  0.296610 -0.220699  0.150009  0.150678 -0.396583   \n",
       "8  0.060483 -0.288753 -0.109933  0.768833 -0.809502  0.316209 -0.407929   \n",
       "9 -0.114374 -0.304004  0.321035 -0.135404 -0.285684 -0.308963 -0.318270   \n",
       "\n",
       "          7         8         9  \n",
       "0 -0.476105  0.060483 -0.114374  \n",
       "1 -0.187904 -0.288753 -0.304004  \n",
       "2  0.296610 -0.109933  0.321035  \n",
       "3 -0.220699  0.768833 -0.135404  \n",
       "4  0.150009 -0.809502 -0.285684  \n",
       "5  0.150678  0.316209 -0.308963  \n",
       "6 -0.396583 -0.407929 -0.318270  \n",
       "7  1.000000 -0.107178  0.095499  \n",
       "8 -0.107178  1.000000 -0.144675  \n",
       "9  0.095499 -0.144675  1.000000  "
      ]
     },
     "execution_count": 41,
     "metadata": {},
     "output_type": "execute_result"
    }
   ],
   "source": [
    "df_corr = df.corr()\n",
    "df_corr"
   ]
  },
  {
   "cell_type": "code",
   "execution_count": 42,
   "metadata": {},
   "outputs": [
    {
     "data": {
      "text/plain": [
       "<AxesSubplot:>"
      ]
     },
     "execution_count": 42,
     "metadata": {},
     "output_type": "execute_result"
    },
    {
     "data": {
      "image/png": "[encoded data removed]",
      "text/plain": [
       "<Figure size 432x288 with 2 Axes>"
      ]
     },
     "metadata": {
      "needs_background": "light"
     },
     "output_type": "display_data"
    }
   ],
   "source": [
    "sns.heatmap(df_corr)"
   ]
  }
 ],
 "metadata": {
  "kernelspec": {
   "display_name": "Python 3",
   "language": "python",
   "name": "python3"
  },
  "language_info": {
   "codemirror_mode": {
    "name": "ipython",
    "version": 3
   },
   "file_extension": ".py",
   "mimetype": "text/x-python",
   "name": "python",
   "nbconvert_exporter": "python",
   "pygments_lexer": "ipython3",
   "version": "3.8.5"
  }
 },
 "nbformat": 4,
 "nbformat_minor": 4
}
